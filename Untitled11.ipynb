{
  "nbformat": 4,
  "nbformat_minor": 0,
  "metadata": {
    "colab": {
      "provenance": [],
      "authorship_tag": "ABX9TyOgnLDXd9lo7hQ7LgQqZjNO",
      "include_colab_link": true
    },
    "kernelspec": {
      "name": "python3",
      "display_name": "Python 3"
    },
    "language_info": {
      "name": "python"
    }
  },
  "cells": [
    {
      "cell_type": "markdown",
      "metadata": {
        "id": "view-in-github",
        "colab_type": "text"
      },
      "source": [
        "<a href=\"https://colab.research.google.com/github/gowthamana2024/POAI-ex-9/blob/main/Untitled11.ipynb\" target=\"_parent\"><img src=\"https://colab.research.google.com/assets/colab-badge.svg\" alt=\"Open In Colab\"/></a>"
      ]
    },
    {
      "cell_type": "code",
      "execution_count": 1,
      "metadata": {
        "colab": {
          "base_uri": "https://localhost:8080/"
        },
        "id": "SW_QPpdYVuGY",
        "outputId": "e29a8ca3-3200-4d62-a94c-cea0ebec218b"
      },
      "outputs": [
        {
          "output_type": "stream",
          "name": "stdout",
          "text": [
            "Current Blocks World state:\n",
            " Stack 0: ['A', 'B']\n",
            " Stack 1: ['C']\n",
            " Stack 2: []\n",
            "\n",
            "Moved block(s) ['B'] to stack 2\n",
            "Current Blocks World state:\n",
            " Stack 0: ['A']\n",
            " Stack 1: ['C']\n",
            " Stack 2: ['B']\n",
            "\n",
            "Moved block(s) ['C'] to stack 2\n",
            "Current Blocks World state:\n",
            " Stack 0: ['A']\n",
            " Stack 1: []\n",
            " Stack 2: ['B', 'C']\n",
            "\n",
            "Moved block(s) ['A'] to stack 1\n",
            "Current Blocks World state:\n",
            " Stack 0: []\n",
            " Stack 1: ['A']\n",
            " Stack 2: ['B', 'C']\n",
            "\n",
            "Moved block(s) ['C'] to stack 1\n",
            "Current Blocks World state:\n",
            " Stack 0: []\n",
            " Stack 1: ['A', 'C']\n",
            " Stack 2: ['B']\n",
            "\n"
          ]
        }
      ],
      "source": [
        "class BlocksWorld:\n",
        "    def __init__(self, stacks):\n",
        "        \"\"\"\n",
        "        stacks: list of lists, each inner list is a stack of blocks bottom->top\n",
        "        Example: [['A', 'B'], ['C'], []] means A at bottom, B on A; C alone; empty stack\n",
        "        \"\"\"\n",
        "        self.stacks = stacks\n",
        "\n",
        "    def find_block(self, block):\n",
        "        \"\"\"Return (stack_index, height_index) of the block.\"\"\"\n",
        "        for i, stack in enumerate(self.stacks):\n",
        "            if block in stack:\n",
        "                return i, stack.index(block)\n",
        "        return None, None\n",
        "\n",
        "    def is_clear(self, block):\n",
        "        \"\"\"A block is clear if nothing is on top of it.\"\"\"\n",
        "        stack_i, height_i = self.find_block(block)\n",
        "        if stack_i is None:\n",
        "            return False\n",
        "        return height_i == len(self.stacks[stack_i]) - 1\n",
        "\n",
        "    def move(self, block, dest):\n",
        "        \"\"\"Move block to top of dest stack or table (dest can be a block or table index).\"\"\"\n",
        "        # Find block and its stack\n",
        "        from_stack_i, block_pos = self.find_block(block)\n",
        "        if from_stack_i is None:\n",
        "            print(f\"Block {block} not found.\")\n",
        "            return False\n",
        "\n",
        "        if not self.is_clear(block):\n",
        "            print(f\"Block {block} is not clear.\")\n",
        "            return False\n",
        "\n",
        "        # Remove block and any blocks above it (should be none if clear)\n",
        "        moving_blocks = self.stacks[from_stack_i][block_pos:]\n",
        "        self.stacks[from_stack_i] = self.stacks[from_stack_i][:block_pos]\n",
        "\n",
        "        # Determine destination stack index\n",
        "        if isinstance(dest, str):  # dest is a block: put on top of its stack\n",
        "            dest_stack_i, _ = self.find_block(dest)\n",
        "            if dest_stack_i is None:\n",
        "                print(f\"Destination block {dest} not found.\")\n",
        "                return False\n",
        "        else:\n",
        "            # dest is a stack index (table)\n",
        "            dest_stack_i = dest\n",
        "\n",
        "        # Check if destination block is clear if dest is a block\n",
        "        if isinstance(dest, str) and not self.is_clear(dest):\n",
        "            print(f\"Destination block {dest} is not clear.\")\n",
        "            return False\n",
        "\n",
        "        # Place moving block(s) on destination stack\n",
        "        self.stacks[dest_stack_i].extend(moving_blocks)\n",
        "        print(f\"Moved block(s) {moving_blocks} to stack {dest_stack_i}\")\n",
        "        return True\n",
        "\n",
        "    def print_state(self):\n",
        "        print(\"Current Blocks World state:\")\n",
        "        for i, stack in enumerate(self.stacks):\n",
        "            print(f\" Stack {i}: {stack}\")\n",
        "        print()\n",
        "\n",
        "# --- Example usage ---\n",
        "bw = BlocksWorld([['A', 'B'], ['C'], []])  # Three stacks\n",
        "\n",
        "bw.print_state()\n",
        "bw.move('B', 2)  # Move B to empty stack 2\n",
        "bw.print_state()\n",
        "bw.move('C', 'B')  # Move C on top of B\n",
        "bw.print_state()\n",
        "bw.move('A', 1)  # Move A on top of C (should fail because C not clear)\n",
        "bw.print_state()\n",
        "bw.move('C', 1)  # Move C to stack 1 (valid)\n",
        "bw.print_state()"
      ]
    }
  ]
}